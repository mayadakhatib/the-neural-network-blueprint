{
 "cells": [
  {
   "cell_type": "code",
   "execution_count": 29,
   "metadata": {},
   "outputs": [],
   "source": [
    "from utils import load_dataset_to_numpy"
   ]
  },
  {
   "cell_type": "code",
   "execution_count": 30,
   "metadata": {},
   "outputs": [],
   "source": [
    "trian_dataset = r'datasets\\cat_dog_dataset_train.csv'\n",
    "test_dataset = r\"datasets\\cat_dog_dataset_test.csv\"\n",
    "\n",
    "X_train, y_train = load_dataset_to_numpy(trian_dataset)\n",
    "X_test, y_test = load_dataset_to_numpy(trian_dataset)"
   ]
  },
  {
   "cell_type": "code",
   "execution_count": 31,
   "metadata": {},
   "outputs": [
    {
     "name": "stdout",
     "output_type": "stream",
     "text": [
      "Number of training examples: 557\n",
      "Number of testing examples: 557\n",
      "Height/Width of each image: 64\n",
      "Each image is of size: (64, 64, 3)\n",
      "train_set_x shape: (557, 64, 64, 3)\n",
      "train_set_y shape: (557,)\n",
      "test_set_x shape: (557, 64, 64, 3)\n",
      "test_set_y shape: (557,)\n"
     ]
    }
   ],
   "source": [
    "print (\"Number of training examples: \" + str(X_train.shape[0]))\n",
    "print (\"Number of testing examples: \" + str(X_test.shape[0]))\n",
    "print (\"Height/Width of each image: \" + str(X_train[1].shape[0]))\n",
    "print (\"Each image is of size: (\" + str(X_train[1].shape[0]) + \", \" + str(X_train[1].shape[0]) + \", 3)\")\n",
    "print (\"train_set_x shape: \" + str(X_train.shape))\n",
    "print (\"train_set_y shape: \" + str(y_train.shape))\n",
    "print (\"test_set_x shape: \" + str(X_test.shape))\n",
    "print (\"test_set_y shape: \" + str(y_test.shape))"
   ]
  },
  {
   "cell_type": "markdown",
   "metadata": {},
   "source": [
    "#### Flatten the arrays into a single vector of shape (height * width * 3, 1)"
   ]
  },
  {
   "cell_type": "code",
   "execution_count": 40,
   "metadata": {},
   "outputs": [
    {
     "name": "stdout",
     "output_type": "stream",
     "text": [
      "Train and test shape after flattening:\n",
      "train: (12288, 557) \n",
      "test: (12288, 557)\n"
     ]
    }
   ],
   "source": [
    "train_set_x_flatten = X_train.reshape(X_train.shape[0], -1).T\n",
    "test_set_x_flatten = X_test.reshape(X_test.shape[0], -1).T\n",
    "print(\"Train and test shape after flattening:\")\n",
    "print(f\"train: {train_set_x_flatten.shape} \\ntest: {test_set_x_flatten.shape}\")"
   ]
  },
  {
   "cell_type": "code",
   "execution_count": null,
   "metadata": {},
   "outputs": [],
   "source": []
  }
 ],
 "metadata": {
  "kernelspec": {
   "display_name": ".nnvenv",
   "language": "python",
   "name": "python3"
  },
  "language_info": {
   "codemirror_mode": {
    "name": "ipython",
    "version": 3
   },
   "file_extension": ".py",
   "mimetype": "text/x-python",
   "name": "python",
   "nbconvert_exporter": "python",
   "pygments_lexer": "ipython3",
   "version": "3.10.0"
  }
 },
 "nbformat": 4,
 "nbformat_minor": 2
}
